{
 "cells": [
  {
   "cell_type": "code",
   "execution_count": 1,
   "metadata": {},
   "outputs": [
    {
     "name": "stderr",
     "output_type": "stream",
     "text": [
      "Using Theano backend.\n"
     ]
    }
   ],
   "source": [
    "import os\n",
    "os.environ['KERAS_BACKEND']='theano'\n",
    "import datetime\n",
    "import keras\n",
    "from keras.datasets import mnist\n",
    "from keras.models import Sequential\n",
    "from keras.layers import Dense, Dropout\n",
    "import keras.optimizers\n",
    "\n",
    "import numpy as np\n",
    "import matplotlib.pyplot as plt"
   ]
  },
  {
   "cell_type": "markdown",
   "metadata": {},
   "source": [
    "# Multilayer Perceptron Exercise"
   ]
  },
  {
   "cell_type": "markdown",
   "metadata": {},
   "source": [
    "The goal of this exercise is to build and train a Multilayer perceptron NN to recognize hand-written digits, i.e. from 0 to 9."
   ]
  },
  {
   "cell_type": "code",
   "execution_count": 2,
   "metadata": {
    "collapsed": true
   },
   "outputs": [],
   "source": [
    "num_classes=10"
   ]
  },
  {
   "cell_type": "markdown",
   "metadata": {},
   "source": [
    "## The dataset"
   ]
  },
  {
   "cell_type": "markdown",
   "metadata": {},
   "source": [
    "The dataset we will be using for this session is called MNIST (http://yann.lecun.com/exdb/mnist/). This is a well known example:\n",
    "\n",
    ">The MNIST database was constructed from NIST's Special Database 3 and Special Database 1 which contain binary images of handwritten digits. NIST originally designated SD-3 as their training set and SD-1 as their test set. However, SD-3 is much cleaner and easier to recognize than SD-1. The reason for this can be found on the fact that SD-3 was collected among Census Bureau employees, while SD-1 was collected among high-school students. Drawing sensible conclusions from learning experiments requires that the result be independent of the choice of training set and test among the complete set of samples. Therefore it was necessary to build a new database by mixing NIST's datasets.\n",
    "\n",
    "The MNIST training set is composed of 30,000 patterns from SD-3 and 30,000 patterns from SD-1. Our test set was composed of 5,000 patterns from SD-3 and 5,000 patterns from SD-1. The 60,000 pattern training set contained examples from approximately 250 writers.\n",
    "It is important noting that the digits have been size-normalized and centered in a fixed-size image."
   ]
  },
  {
   "cell_type": "markdown",
   "metadata": {},
   "source": [
    "Let's read our dataset and draw a sample from it."
   ]
  },
  {
   "cell_type": "code",
   "execution_count": 3,
   "metadata": {},
   "outputs": [
    {
     "name": "stdout",
     "output_type": "stream",
     "text": [
      "The shape of the X training set: (60000, 28, 28)\n",
      "The shape of the Y training set: (60000,)\n",
      "The shape of the X test set: (10000, 28, 28)\n",
      "The shape of the Y test set: (10000,)\n"
     ]
    }
   ],
   "source": [
    "(x_train, y_train), (x_test, y_test) = mnist.load_data() # load the dataset\n",
    "print(\"The shape of the X training set: {}\".format(x_train.shape))\n",
    "print(\"The shape of the Y training set: {}\".format(y_train.shape))\n",
    "print(\"The shape of the X test set: {}\".format(x_test.shape))\n",
    "print(\"The shape of the Y test set: {}\".format(y_test.shape))"
   ]
  },
  {
   "cell_type": "markdown",
   "metadata": {},
   "source": [
    "We will use matplotlib to plot it."
   ]
  },
  {
   "cell_type": "code",
   "execution_count": 4,
   "metadata": {},
   "outputs": [
    {
     "name": "stdout",
     "output_type": "stream",
     "text": [
      "The selected random indexes: [19773  1808  8690  1634 21580]\n"
     ]
    }
   ],
   "source": [
    "random_indexes = np.random.randint(len(x_train), size=5)\n",
    "print(\"The selected random indexes: {}\".format(random_indexes))"
   ]
  },
  {
   "cell_type": "code",
   "execution_count": 5,
   "metadata": {
    "scrolled": false
   },
   "outputs": [
    {
     "data": {
      "image/png": "[encoded data removed]",
      "text/plain": [
       "<matplotlib.figure.Figure at 0x112a5b160>"
      ]
     },
     "metadata": {},
     "output_type": "display_data"
    },
    {
     "data": {
      "image/png": "[encoded data removed]",
      "text/plain": [
       "<matplotlib.figure.Figure at 0x109d51f28>"
      ]
     },
     "metadata": {},
     "output_type": "display_data"
    },
    {
     "data": {
      "image/png": "[encoded data removed]",
      "text/plain": [
       "<matplotlib.figure.Figure at 0x119479c18>"
      ]
     },
     "metadata": {},
     "output_type": "display_data"
    },
    {
     "data": {
      "image/png": "[encoded data removed]",
      "text/plain": [
       "<matplotlib.figure.Figure at 0x1192f9a90>"
      ]
     },
     "metadata": {},
     "output_type": "display_data"
    },
    {
     "data": {
      "image/png": "[encoded data removed]",
      "text/plain": [
       "<matplotlib.figure.Figure at 0x1193cc860>"
      ]
     },
     "metadata": {},
     "output_type": "display_data"
    }
   ],
   "source": [
    "for index in random_indexes:\n",
    "    label = y_train[index]\n",
    "    pixels = x_train[index]\n",
    "    plt.title('Label is {}'.format(label))\n",
    "    plt.imshow(pixels, cmap='gray')\n",
    "    plt.show()"
   ]
  },
  {
   "cell_type": "markdown",
   "metadata": {},
   "source": [
    "### Data transformation"
   ]
  },
  {
   "cell_type": "markdown",
   "metadata": {},
   "source": [
    "As we are trying to build a multilayer perceptron, our data should be flatten, i.e., one example per row. In order to do so, we use the `reshape()` method from numpy:"
   ]
  },
  {
   "cell_type": "code",
   "execution_count": 6,
   "metadata": {},
   "outputs": [
    {
     "name": "stdout",
     "output_type": "stream",
     "text": [
      "The new shape of the X train samples: (60000, 784)\n",
      "The new shape of the X test samples: (10000, 784)\n"
     ]
    }
   ],
   "source": [
    "x_train = x_train.reshape(60000, 784)\n",
    "x_test = x_test.reshape(10000, 784)\n",
    "x_train = x_train.astype('float32')\n",
    "x_test = x_test.astype('float32')\n",
    "x_train /= 255\n",
    "x_test /= 255\n",
    "print(\"The new shape of the X train samples: {}\".format(x_train.shape))\n",
    "print(\"The new shape of the X test samples: {}\".format(x_test.shape))"
   ]
  },
  {
   "cell_type": "markdown",
   "metadata": {},
   "source": [
    "The output of the NN will be a probability of the number being guessed is one from 0 to 9, thus we need to change our output to a binary representation of the number, i.e., the output 7 shall be represented as `[0 0 0 0 0 0 0 1 0 0]`. We use a keras helper function named `to_categorical()`."
   ]
  },
  {
   "cell_type": "code",
   "execution_count": 7,
   "metadata": {},
   "outputs": [],
   "source": [
    "# convert class vectors to binary class matrices\n",
    "y_train = keras.utils.to_categorical(y_train, num_classes)\n",
    "y_test = keras.utils.to_categorical(y_test, num_classes)"
   ]
  },
  {
   "cell_type": "markdown",
   "metadata": {},
   "source": [
    "## Specifying the NN"
   ]
  },
  {
   "cell_type": "markdown",
   "metadata": {},
   "source": [
    "We will start with a very simple NN with a single fullly connected hidden layer. Our model is sequential, as we don't have feedback in it. First we instatiate the model:"
   ]
  },
  {
   "cell_type": "code",
   "execution_count": 23,
   "metadata": {
    "collapsed": true
   },
   "outputs": [],
   "source": [
    "model = Sequential()"
   ]
  },
  {
   "cell_type": "markdown",
   "metadata": {},
   "source": [
    "Then we add the layers to it. For the first layer we specify that it is a fully connected layer by instantiating a `Dense` object, then  need to specify the `input_shape` parameter, that we get from our dataset. After that, we specify a Rectified Linear Unit as its activation function. "
   ]
  },
  {
   "cell_type": "code",
   "execution_count": 24,
   "metadata": {
    "collapsed": true
   },
   "outputs": [],
   "source": [
    "model.add(Dense(128, activation='relu', input_shape=(784,)))\n",
    "model.add(Dropout(0.2))\n",
    "model.add(Dense(128, activation='relu'))\n",
    "model.add(Dropout(0.2))"
   ]
  },
  {
   "cell_type": "markdown",
   "metadata": {},
   "source": [
    "We then specify an output layer with a `softmax` activation function. This function maps an array into a probability distribution with 1 as the sum."
   ]
  },
  {
   "cell_type": "code",
   "execution_count": 25,
   "metadata": {
    "collapsed": true
   },
   "outputs": [],
   "source": [
    "model.add(Dense(10, activation='softmax'))"
   ]
  },
  {
   "cell_type": "markdown",
   "metadata": {},
   "source": [
    "We can check our model using the `summary()` method."
   ]
  },
  {
   "cell_type": "code",
   "execution_count": 11,
   "metadata": {},
   "outputs": [
    {
     "name": "stdout",
     "output_type": "stream",
     "text": [
      "_________________________________________________________________\n",
      "Layer (type)                 Output Shape              Param #   \n",
      "=================================================================\n",
      "dense_1 (Dense)              (None, 128)               100480    \n",
      "_________________________________________________________________\n",
      "dense_2 (Dense)              (None, 128)               16512     \n",
      "_________________________________________________________________\n",
      "dense_3 (Dense)              (None, 10)                1290      \n",
      "=================================================================\n",
      "Total params: 118,282\n",
      "Trainable params: 118,282\n",
      "Non-trainable params: 0\n",
      "_________________________________________________________________\n"
     ]
    }
   ],
   "source": [
    "model.summary()"
   ]
  },
  {
   "cell_type": "markdown",
   "metadata": {},
   "source": [
    "After dat we need to compile our model, by setting which optimizer it will use and what are the metrics that we will use for fitting the model.  \n",
    "A list of optimizers can be found <a href=\"https://keras.io/optimizers/\">here</a>.  \n",
    "A list of loss functions can be found <a href=\"https://keras.io/losses/\">here</a>.  \n",
    "A list of metrics can be found <a href=\"https://keras.io/metrics/\">here</a>.  "
   ]
  },
  {
   "cell_type": "code",
   "execution_count": 31,
   "metadata": {
    "collapsed": true
   },
   "outputs": [],
   "source": [
    "model.compile(loss='categorical_crossentropy',\n",
    "              optimizer=\"RMSProp\",\n",
    "              metrics=['accuracy'])"
   ]
  },
  {
   "cell_type": "markdown",
   "metadata": {},
   "source": [
    "Now we can train our model. We have to specify a few parameters first.  \n",
    "We have to specify the number of `epochs`, i.e., the number of forward/backpropagation cycles; the `batch_size`, i.e., the number of samples used to train at a time - this parameter optimizes the memory/cache usage. We can also specify a `verbose` parameter to have some feedback while we are training our neural network."
   ]
  },
  {
   "cell_type": "code",
   "execution_count": 29,
   "metadata": {
    "collapsed": true
   },
   "outputs": [],
   "source": [
    "batch_size = 128\n",
    "epochs = 20"
   ]
  },
  {
   "cell_type": "markdown",
   "metadata": {},
   "source": [
    "Now it is training time:"
   ]
  },
  {
   "cell_type": "code",
   "execution_count": 32,
   "metadata": {},
   "outputs": [
    {
     "name": "stdout",
     "output_type": "stream",
     "text": [
      "Epoch 1/20\n",
      "60000/60000 [==============================] - 2s - loss: 0.1981 - acc: 0.9417     \n",
      "Epoch 2/20\n",
      "60000/60000 [==============================] - 2s - loss: 0.1391 - acc: 0.9579     \n",
      "Epoch 3/20\n",
      "60000/60000 [==============================] - 2s - loss: 0.1145 - acc: 0.9655     \n",
      "Epoch 4/20\n",
      "60000/60000 [==============================] - 2s - loss: 0.1002 - acc: 0.9703     \n",
      "Epoch 5/20\n",
      "60000/60000 [==============================] - 2s - loss: 0.0882 - acc: 0.9730     \n",
      "Epoch 6/20\n",
      "60000/60000 [==============================] - 2s - loss: 0.0810 - acc: 0.9759     \n",
      "Epoch 7/20\n",
      "60000/60000 [==============================] - 2s - loss: 0.0741 - acc: 0.9778     \n",
      "Epoch 8/20\n",
      "60000/60000 [==============================] - 2s - loss: 0.0681 - acc: 0.9791     \n",
      "Epoch 9/20\n",
      "60000/60000 [==============================] - 2s - loss: 0.0648 - acc: 0.9804     \n",
      "Epoch 10/20\n",
      "60000/60000 [==============================] - 3s - loss: 0.0604 - acc: 0.9811     \n",
      "Epoch 11/20\n",
      "60000/60000 [==============================] - 2s - loss: 0.0598 - acc: 0.9812     \n",
      "Epoch 12/20\n",
      "60000/60000 [==============================] - 2s - loss: 0.0551 - acc: 0.9828     \n",
      "Epoch 13/20\n",
      "60000/60000 [==============================] - 2s - loss: 0.0530 - acc: 0.9838     \n",
      "Epoch 14/20\n",
      "60000/60000 [==============================] - 2s - loss: 0.0530 - acc: 0.9840     \n",
      "Epoch 15/20\n",
      "60000/60000 [==============================] - 2s - loss: 0.0488 - acc: 0.9848     \n",
      "Epoch 16/20\n",
      "60000/60000 [==============================] - 2s - loss: 0.0482 - acc: 0.9861     \n",
      "Epoch 17/20\n",
      "60000/60000 [==============================] - 2s - loss: 0.0470 - acc: 0.9860     \n",
      "Epoch 18/20\n",
      "60000/60000 [==============================] - 2s - loss: 0.0463 - acc: 0.9866     \n",
      "Epoch 19/20\n",
      "60000/60000 [==============================] - 2s - loss: 0.0420 - acc: 0.9874     \n",
      "Epoch 20/20\n",
      "60000/60000 [==============================] - 2s - loss: 0.0427 - acc: 0.9874     \n",
      "Training time: 0:00:57.506483\n"
     ]
    }
   ],
   "source": [
    "t = datetime.datetime.now()\n",
    "history = model.fit(x_train, y_train,\n",
    "                    batch_size=batch_size,\n",
    "                    epochs=epochs,\n",
    "                    verbose=1)\n",
    "print('Training time: %s' % (datetime.datetime.now() - t))"
   ]
  },
  {
   "cell_type": "markdown",
   "metadata": {},
   "source": [
    "Now we can evaluate our model."
   ]
  },
  {
   "cell_type": "code",
   "execution_count": 33,
   "metadata": {},
   "outputs": [
    {
     "name": "stdout",
     "output_type": "stream",
     "text": [
      "Available metrics are: \n",
      "['loss', 'acc']\n",
      "[0.084193929192250563, 0.98229999999999995]\n"
     ]
    }
   ],
   "source": [
    "score = model.evaluate(x_test, y_test, verbose=0)\n",
    "print(\"Available metrics are: \\n{}\".format(model.metrics_names))\n",
    "print(score)"
   ]
  },
  {
   "cell_type": "markdown",
   "metadata": {},
   "source": [
    "# The tasks"
   ]
  },
  {
   "cell_type": "markdown",
   "metadata": {},
   "source": [
    "Now it is time to get our hands dirty."
   ]
  },
  {
   "cell_type": "markdown",
   "metadata": {},
   "source": [
    "## 1. Build a dummy classifier."
   ]
  },
  {
   "cell_type": "markdown",
   "metadata": {},
   "source": [
    "The accuracy we are getting so far is really bad. How about building one of the dummest classifiers there is: throwing a 10 face die? "
   ]
  },
  {
   "cell_type": "code",
   "execution_count": 16,
   "metadata": {},
   "outputs": [
    {
     "name": "stdout",
     "output_type": "stream",
     "text": [
      "10000\n",
      "Accuracy: 0.1051\n"
     ]
    }
   ],
   "source": [
    "random_values = np.random.randint(10, size=len(y_test))\n",
    "(_, _), (_, y_new_test) = mnist.load_data()\n",
    "print(len(y_new_test))\n",
    "rightly_guessed = [i for i in (random_values==y_new_test) if i]\n",
    "print(\"Accuracy: {}\".format((len(rightly_guessed)/len(y_new_test))))"
   ]
  },
  {
   "cell_type": "markdown",
   "metadata": {},
   "source": [
    "## 2. Improving the dataset."
   ]
  },
  {
   "cell_type": "markdown",
   "metadata": {},
   "source": [
    "Neural Networks are known to behave better on normalized datasets. By knowing that there only 256 (from 0 to 255) possible values for the gray scale. How about normalize the dataset?"
   ]
  },
  {
   "cell_type": "markdown",
   "metadata": {},
   "source": [
    "## 3. Changing the NN topology"
   ]
  },
  {
   "cell_type": "markdown",
   "metadata": {},
   "source": [
    "Try tweaking the NN topology a bit. Make some small changes in the model:\n",
    "1. Increase the number of neurons at the hidden layer to `128`.\n",
    "1. Add a new 128-neuron `Dense` layer.\n",
    "1. Increase the number of epochs to 10, then 20.\n",
    "1. Add new `Dropout` layers in between the hidden layers (20% is a good start for a dropout).\n",
    "1. Try to use the `categorical_crossentropy` loss function.\n",
    "1. Try to use the `RMSProp` optimizer."
   ]
  }
 ],
 "metadata": {
  "kernelspec": {
   "display_name": "Python 3",
   "language": "python",
   "name": "python3"
  },
  "language_info": {
   "codemirror_mode": {
    "name": "ipython",
    "version": 3
   },
   "file_extension": ".py",
   "mimetype": "text/x-python",
   "name": "python",
   "nbconvert_exporter": "python",
   "pygments_lexer": "ipython3",
   "version": "3.6.1"
  }
 },
 "nbformat": 4,
 "nbformat_minor": 2
}
