{
 "cells": [
  {
   "cell_type": "code",
   "execution_count": 1,
   "metadata": {},
   "outputs": [
    {
     "name": "stderr",
     "output_type": "stream",
     "text": [
      "Using Theano backend.\n"
     ]
    }
   ],
   "source": [
    "import os\n",
    "os.environ['KERAS_BACKEND']='theano'\n",
    "import datetime\n",
    "import keras\n",
    "from keras.datasets import mnist\n",
    "from keras.models import Sequential\n",
    "from keras.layers import Dense, Dropout\n",
    "import keras.optimizers"
   ]
  },
  {
   "cell_type": "code",
   "execution_count": 2,
   "metadata": {
    "collapsed": true
   },
   "outputs": [],
   "source": [
    "batch_size = 128\n",
    "num_classes = 10\n",
    "epochs = 20\n"
   ]
  },
  {
   "cell_type": "code",
   "execution_count": 3,
   "metadata": {},
   "outputs": [
    {
     "name": "stdout",
     "output_type": "stream",
     "text": [
      "60000 train samples\n",
      "10000 test samples\n"
     ]
    }
   ],
   "source": [
    "(x_train, y_train), (x_test, y_test) = mnist.load_data()\n",
    "\n",
    "x_train = x_train.reshape(60000, 784)\n",
    "x_test = x_test.reshape(10000, 784)\n",
    "x_train = x_train.astype('float32')\n",
    "x_test = x_test.astype('float32')\n",
    "x_train /= 255\n",
    "x_test /= 255\n",
    "print(x_train.shape[0], 'train samples')\n",
    "print(x_test.shape[0], 'test samples')"
   ]
  },
  {
   "cell_type": "code",
   "execution_count": 4,
   "metadata": {
    "collapsed": true
   },
   "outputs": [],
   "source": [
    "# convert class vectors to binary class matrices\n",
    "y_train = keras.utils.to_categorical(y_train, num_classes)\n",
    "y_test = keras.utils.to_categorical(y_test, num_classes)"
   ]
  },
  {
   "cell_type": "code",
   "execution_count": 5,
   "metadata": {
    "collapsed": true
   },
   "outputs": [],
   "source": [
    "model = Sequential()\n",
    "model.add(Dense(512, activation='relu', input_shape=(784,)))\n",
    "model.add(Dropout(0.2))\n",
    "model.add(Dense(512, activation='relu'))\n",
    "model.add(Dropout(0.2))\n",
    "model.add(Dense(10, activation='softmax'))\n"
   ]
  },
  {
   "cell_type": "code",
   "execution_count": 6,
   "metadata": {},
   "outputs": [
    {
     "name": "stdout",
     "output_type": "stream",
     "text": [
      "_________________________________________________________________\n",
      "Layer (type)                 Output Shape              Param #   \n",
      "=================================================================\n",
      "dense_1 (Dense)              (None, 512)               401920    \n",
      "_________________________________________________________________\n",
      "dropout_1 (Dropout)          (None, 512)               0         \n",
      "_________________________________________________________________\n",
      "dense_2 (Dense)              (None, 512)               262656    \n",
      "_________________________________________________________________\n",
      "dropout_2 (Dropout)          (None, 512)               0         \n",
      "_________________________________________________________________\n",
      "dense_3 (Dense)              (None, 10)                5130      \n",
      "=================================================================\n",
      "Total params: 669,706\n",
      "Trainable params: 669,706\n",
      "Non-trainable params: 0\n",
      "_________________________________________________________________\n"
     ]
    }
   ],
   "source": [
    "model.summary()"
   ]
  },
  {
   "cell_type": "code",
   "execution_count": 7,
   "metadata": {
    "collapsed": true
   },
   "outputs": [],
   "source": [
    "model.compile(loss='categorical_crossentropy',\n",
    "              optimizer=keras.optimizers.sgd(),\n",
    "              metrics=['accuracy'])"
   ]
  },
  {
   "cell_type": "code",
   "execution_count": 8,
   "metadata": {},
   "outputs": [
    {
     "name": "stdout",
     "output_type": "stream",
     "text": [
      "Train on 60000 samples, validate on 10000 samples\n",
      "Epoch 1/20\n",
      "60000/60000 [==============================] - 7s - loss: 1.1937 - acc: 0.6967 - val_loss: 0.5251 - val_acc: 0.8719\n",
      "Epoch 2/20\n",
      "60000/60000 [==============================] - 6s - loss: 0.5213 - acc: 0.8526 - val_loss: 0.3700 - val_acc: 0.9006\n",
      "Epoch 3/20\n",
      "60000/60000 [==============================] - 6s - loss: 0.4174 - acc: 0.8800 - val_loss: 0.3182 - val_acc: 0.9103\n",
      "Epoch 4/20\n",
      "60000/60000 [==============================] - 9s - loss: 0.3702 - acc: 0.8930 - val_loss: 0.2908 - val_acc: 0.9188\n",
      "Epoch 5/20\n",
      "60000/60000 [==============================] - 7s - loss: 0.3408 - acc: 0.9010 - val_loss: 0.2709 - val_acc: 0.9214\n",
      "Epoch 6/20\n",
      "60000/60000 [==============================] - 6s - loss: 0.3150 - acc: 0.9082 - val_loss: 0.2537 - val_acc: 0.9263\n",
      "Epoch 7/20\n",
      "60000/60000 [==============================] - 8s - loss: 0.2976 - acc: 0.9143 - val_loss: 0.2406 - val_acc: 0.9293\n",
      "Epoch 8/20\n",
      "60000/60000 [==============================] - 7s - loss: 0.2803 - acc: 0.9195 - val_loss: 0.2277 - val_acc: 0.9336\n",
      "Epoch 9/20\n",
      "60000/60000 [==============================] - 7s - loss: 0.2650 - acc: 0.9234 - val_loss: 0.2165 - val_acc: 0.9372\n",
      "Epoch 10/20\n",
      "60000/60000 [==============================] - 8s - loss: 0.2524 - acc: 0.9268 - val_loss: 0.2073 - val_acc: 0.9389\n",
      "Epoch 11/20\n",
      "60000/60000 [==============================] - 9s - loss: 0.2404 - acc: 0.9303 - val_loss: 0.1984 - val_acc: 0.9414\n",
      "Epoch 12/20\n",
      "60000/60000 [==============================] - 10s - loss: 0.2296 - acc: 0.9326 - val_loss: 0.1899 - val_acc: 0.9436\n",
      "Epoch 13/20\n",
      "60000/60000 [==============================] - 11s - loss: 0.2195 - acc: 0.9363 - val_loss: 0.1821 - val_acc: 0.9459\n",
      "Epoch 14/20\n",
      "60000/60000 [==============================] - 8s - loss: 0.2117 - acc: 0.9393 - val_loss: 0.1765 - val_acc: 0.9490\n",
      "Epoch 15/20\n",
      "60000/60000 [==============================] - 8s - loss: 0.2070 - acc: 0.9402 - val_loss: 0.1692 - val_acc: 0.9494\n",
      "Epoch 16/20\n",
      "60000/60000 [==============================] - 8s - loss: 0.1966 - acc: 0.9430 - val_loss: 0.1645 - val_acc: 0.9515\n",
      "Epoch 17/20\n",
      "60000/60000 [==============================] - 8s - loss: 0.1911 - acc: 0.9442 - val_loss: 0.1586 - val_acc: 0.9523\n",
      "Epoch 18/20\n",
      "60000/60000 [==============================] - 7s - loss: 0.1862 - acc: 0.9461 - val_loss: 0.1538 - val_acc: 0.9527\n",
      "Epoch 19/20\n",
      "60000/60000 [==============================] - 8s - loss: 0.1798 - acc: 0.9484 - val_loss: 0.1498 - val_acc: 0.9544\n",
      "Epoch 20/20\n",
      "60000/60000 [==============================] - 7s - loss: 0.1727 - acc: 0.9498 - val_loss: 0.1460 - val_acc: 0.9559\n",
      "Training time: 0:02:46.389513\n",
      "Test score: 0.146046256261\n",
      "Test accuracy: 0.9559\n"
     ]
    }
   ],
   "source": [
    "t = datetime.datetime.now()\n",
    "history = model.fit(x_train, y_train,\n",
    "                    batch_size=batch_size,\n",
    "                    epochs=epochs,\n",
    "                    verbose=1,\n",
    "                    validation_data=(x_test, y_test))\n",
    "print('Training time: %s' % (datetime.datetime.now() - t))\n",
    "score = model.evaluate(x_test, y_test, verbose=0)\n",
    "print('Test score:', score[0])\n",
    "print('Test accuracy:', score[1])"
   ]
  }
 ],
 "metadata": {
  "kernelspec": {
   "display_name": "Python 3",
   "language": "python",
   "name": "python3"
  },
  "language_info": {
   "codemirror_mode": {
    "name": "ipython",
    "version": 3
   },
   "file_extension": ".py",
   "mimetype": "text/x-python",
   "name": "python",
   "nbconvert_exporter": "python",
   "pygments_lexer": "ipython3",
   "version": "3.6.1"
  }
 },
 "nbformat": 4,
 "nbformat_minor": 2
}
